{
 "cells": [
  {
   "attachments": {},
   "cell_type": "markdown",
   "metadata": {},
   "source": [
    "## Clases y Programación Orientada a Objetos"
   ]
  },
  {
   "attachments": {},
   "cell_type": "markdown",
   "metadata": {},
   "source": [
    "1) Crear la clase vehículo que contenga los atributos:<br>\n",
    "Color<br>\n",
    "Si es moto, auto, camioneta ó camión<br>\n",
    "Cilindrada del motor"
   ]
  },
  {
   "cell_type": "code",
   "execution_count": 5,
   "metadata": {},
   "outputs": [],
   "source": [
    "class Vehículo:\n",
    "    def __init__(self,color, tipo, cilindrada):\n",
    "        self.color = color\n",
    "        self.tipo = tipo\n",
    "        self.cilindrada = cilindrada"
   ]
  },
  {
   "cell_type": "code",
   "execution_count": 4,
   "metadata": {},
   "outputs": [
    {
     "data": {
      "text/plain": [
       "<__main__.Vehículo at 0x1513e625ee0>"
      ]
     },
     "execution_count": 4,
     "metadata": {},
     "output_type": "execute_result"
    }
   ],
   "source": [
    "auto1 = Vehículo('azul','auto',120)\n",
    "auto1"
   ]
  },
  {
   "attachments": {},
   "cell_type": "markdown",
   "metadata": {},
   "source": [
    "2) A la clase Vehiculo creada en el punto 1, agregar los siguientes métodos:<br>\n",
    "Acelerar<br>\n",
    "Frenar<br>\n",
    "Doblar<br>"
   ]
  },
  {
   "cell_type": "code",
   "execution_count": 29,
   "metadata": {},
   "outputs": [],
   "source": [
    "class Vehículo:\n",
    "    def __init__(self, tipo, color, cilindrada):\n",
    "        self.color = color\n",
    "        self.tipo = tipo\n",
    "        self.cilindrada = cilindrada\n",
    "        self.velocidad = 0\n",
    "        self.dirección = 0\n",
    "\n",
    "    def acelerar(self,V):\n",
    "        self.velocidad += V\n",
    "        return 'Acelere: ',self.velocidad\n",
    "    \n",
    "    def frenar(self,V):\n",
    "        self.velocidad -= V\n",
    "        return 'Frene: ',self.velocidad\n",
    "\n",
    "    def doblar(self,D):\n",
    "        self.dirección = D\n",
    "        return print('Redireccione:',self.dirección,'°')"
   ]
  },
  {
   "attachments": {},
   "cell_type": "markdown",
   "metadata": {},
   "source": [
    "3) Instanciar 3 objetos de la clase vehículo y ejecutar sus métodos, probar luego el resultado"
   ]
  },
  {
   "cell_type": "code",
   "execution_count": 16,
   "metadata": {},
   "outputs": [
    {
     "data": {
      "text/plain": [
       "('Acelere: ', 20)"
      ]
     },
     "execution_count": 16,
     "metadata": {},
     "output_type": "execute_result"
    }
   ],
   "source": [
    "Vehículo('auto','azul',1.20).acelerar(20)"
   ]
  },
  {
   "cell_type": "code",
   "execution_count": 17,
   "metadata": {},
   "outputs": [
    {
     "data": {
      "text/plain": [
       "('Frene: ', -10)"
      ]
     },
     "execution_count": 17,
     "metadata": {},
     "output_type": "execute_result"
    }
   ],
   "source": [
    "Vehículo('camión','amarillo',10).frenar(10)"
   ]
  },
  {
   "cell_type": "code",
   "execution_count": 31,
   "metadata": {},
   "outputs": [
    {
     "name": "stdout",
     "output_type": "stream",
     "text": [
      "Redireccione: -90 °\n"
     ]
    }
   ],
   "source": [
    "Vehículo('moto','verde',1).doblar(-90)"
   ]
  },
  {
   "attachments": {},
   "cell_type": "markdown",
   "metadata": {},
   "source": [
    "4) Agregar a la clase Vehiculo, un método que muestre su estado, es decir, a que velocidad se encuentra y su dirección. Y otro método que muestre color, tipo y cilindrada"
   ]
  },
  {
   "cell_type": "code",
   "execution_count": 46,
   "metadata": {},
   "outputs": [],
   "source": [
    "class Vehículo:\n",
    "    def __init__(self, tipo, color, cilindrada):\n",
    "        self.color = color\n",
    "        self.tipo = tipo\n",
    "        self.cilindrada = cilindrada\n",
    "        self.velocidad = 0\n",
    "        self.dirección = 0\n",
    "\n",
    "    def acelerar(self,V):\n",
    "        self.velocidad += V\n",
    "        return self.velocidad\n",
    "    \n",
    "    def frenar(self,V):\n",
    "        self.velocidad -= V\n",
    "        return self.velocidad\n",
    "\n",
    "    def doblar(self,D):\n",
    "        self.dirección = D\n",
    "        return self.dirección\n",
    "    \n",
    "    def caracteristicas(self):\n",
    "        return print(self.tipo,'color',self.color,'de',self.cilindrada,'litros')\n",
    "\n",
    "    def estado(self):\n",
    "        return print('Ha modificado su velocidad en', self.velocidad,'y su dirección en',self.dirección,'°')\n"
   ]
  },
  {
   "cell_type": "code",
   "execution_count": 69,
   "metadata": {},
   "outputs": [
    {
     "name": "stdout",
     "output_type": "stream",
     "text": [
      "auto color rojo de 2 litros\n"
     ]
    }
   ],
   "source": [
    "a = Vehículo('auto','rojo',2)\n",
    "a.caracteristicas()\n"
   ]
  },
  {
   "cell_type": "code",
   "execution_count": 70,
   "metadata": {},
   "outputs": [
    {
     "name": "stdout",
     "output_type": "stream",
     "text": [
      "Ha modificado su velocidad en 0 y su dirección en 0 °\n",
      "Ha modificado su velocidad en -20 y su dirección en 90 °\n",
      "Ha modificado su velocidad en -20 y su dirección en -90 °\n"
     ]
    }
   ],
   "source": [
    "a.estado()\n",
    "a.frenar(20)\n",
    "a.doblar(90)\n",
    "a.estado()\n",
    "a.doblar(-90)\n",
    "a.estado()"
   ]
  },
  {
   "cell_type": "code",
   "execution_count": 59,
   "metadata": {},
   "outputs": [
    {
     "name": "stdout",
     "output_type": "stream",
     "text": [
      "auto color rojo de 2 litros\n",
      "Ha modificado su velocidad en 0 y su dirección en 0 °\n"
     ]
    }
   ],
   "source": [
    "Vehículo('auto','rojo',2).caracteristicas()\n",
    "Vehículo('auto','rojo',2).estado()"
   ]
  },
  {
   "attachments": {},
   "cell_type": "markdown",
   "metadata": {},
   "source": [
    "5) Crear una clase que permita utilizar las funciones creadas en la práctica del módulo 7<br>\n",
    "Verificar Primo<br>\n",
    "Valor modal<br>\n",
    "Conversión grados<br>\n",
    "Factorial<br>"
   ]
  },
  {
   "cell_type": "code",
   "execution_count": 16,
   "metadata": {},
   "outputs": [],
   "source": [
    "from herramientas_mio import Herramientas\n",
    "\n",
    "class Funciones_07(Herramientas):\n",
    "\n",
    "    def __init__(self): pass"
   ]
  },
  {
   "attachments": {},
   "cell_type": "markdown",
   "metadata": {},
   "source": [
    "6) Probar las funciones incorporadas en la clase del punto 5"
   ]
  },
  {
   "cell_type": "code",
   "execution_count": 19,
   "metadata": {},
   "outputs": [
    {
     "data": {
      "text/plain": [
       "[1, 2, 3, 5, 7, 11, 13, 17, 19]"
      ]
     },
     "execution_count": 19,
     "metadata": {},
     "output_type": "execute_result"
    }
   ],
   "source": [
    "Funciones_07.primlist([0,1,2,3,4,5,6,7,8,9,10,11,12,13,14,15,16,17,18,19,20])"
   ]
  },
  {
   "cell_type": "code",
   "execution_count": 20,
   "metadata": {},
   "outputs": [
    {
     "data": {
      "text/plain": [
       "6"
      ]
     },
     "execution_count": 20,
     "metadata": {},
     "output_type": "execute_result"
    }
   ],
   "source": [
    "Funciones_07.factorial(3)"
   ]
  },
  {
   "cell_type": "code",
   "execution_count": 17,
   "metadata": {},
   "outputs": [
    {
     "data": {
      "text/plain": [
       "-273.15"
      ]
     },
     "execution_count": 17,
     "metadata": {},
     "output_type": "execute_result"
    }
   ],
   "source": [
    "Funciones_07.conv_t(0,'K','C')"
   ]
  },
  {
   "cell_type": "code",
   "execution_count": 21,
   "metadata": {},
   "outputs": [
    {
     "data": {
      "text/plain": [
       "True"
      ]
     },
     "execution_count": 21,
     "metadata": {},
     "output_type": "execute_result"
    }
   ],
   "source": [
    "Funciones_07.primer(11)"
   ]
  },
  {
   "cell_type": "code",
   "execution_count": 22,
   "metadata": {},
   "outputs": [
    {
     "data": {
      "text/plain": [
       "(3, 3)"
      ]
     },
     "execution_count": 22,
     "metadata": {},
     "output_type": "execute_result"
    }
   ],
   "source": [
    "Funciones_07.repetidos([1,12,3,193,1883,0-3,92,3,2,2,2,3])"
   ]
  },
  {
   "attachments": {},
   "cell_type": "markdown",
   "metadata": {},
   "source": [
    "7) Es necesario que la clase creada en el punto 5 contenga una lista, sobre la cual se apliquen las funciones incorporadas"
   ]
  },
  {
   "cell_type": "code",
   "execution_count": 62,
   "metadata": {},
   "outputs": [],
   "source": [
    "from herramientas_mio import Herramientas\n",
    "\n",
    "class Funciones_07(Herramientas):\n",
    "    \n",
    "    def __init__(self,lista):\n",
    "        self.lista = lista\n",
    "    \n",
    "    def ck(self):\n",
    "        lista_conversor = [Herramientas.conv_t(i,'C','K') for i in self.lista]\n",
    "        return lista_conversor\n",
    "    \n",
    "    def usar(self):\n",
    "            \n",
    "        return ('Aplicando funcion primlist: ', Herramientas.primlist(self.lista),\n",
    "                'Aplicando funcion repetidos: ', Herramientas.repetidos(self.lista),\n",
    "                'Aplicando funcion conversion: ', Funciones_07(self.lista).ck(),\n",
    "                'Aplicando funcion factorial: ', Herramientas.factorial(self.lista))\n",
    "\n",
    "        \n",
    "    "
   ]
  },
  {
   "cell_type": "code",
   "execution_count": 63,
   "metadata": {},
   "outputs": [
    {
     "data": {
      "text/plain": [
       "('Aplicando funcion primlist: ',\n",
       " [1, 2, 3],\n",
       " 'Aplicando funcion repetidos: ',\n",
       " (1, 1),\n",
       " 'Aplicando funcion conversion: ',\n",
       " [274.15, 275.15, 276.15, 277.15],\n",
       " 'Aplicando funcion factorial: ',\n",
       " 'El valor proporcionado no permite calcular factorial')"
      ]
     },
     "execution_count": 63,
     "metadata": {},
     "output_type": "execute_result"
    }
   ],
   "source": [
    "Funciones_07([1,2,3,4]).usar()"
   ]
  },
  {
   "attachments": {},
   "cell_type": "markdown",
   "metadata": {},
   "source": [
    "8) Crear un archivo .py aparte y ubicar allí la clase generada en el punto anterior. Luego realizar la importación del módulo y probar alguna de sus funciones"
   ]
  },
  {
   "cell_type": "code",
   "execution_count": null,
   "metadata": {},
   "outputs": [],
   "source": []
  }
 ],
 "metadata": {
  "interpreter": {
   "hash": "c85384e4cb51c8b72350f3a8712cc8351fdc3955e32a27f9b60c6242ab125f01"
  },
  "kernelspec": {
   "display_name": "Python 3 (ipykernel)",
   "language": "python",
   "name": "python3"
  },
  "language_info": {
   "codemirror_mode": {
    "name": "ipython",
    "version": 3
   },
   "file_extension": ".py",
   "mimetype": "text/x-python",
   "name": "python",
   "nbconvert_exporter": "python",
   "pygments_lexer": "ipython3",
   "version": "3.10.12"
  }
 },
 "nbformat": 4,
 "nbformat_minor": 4
}
