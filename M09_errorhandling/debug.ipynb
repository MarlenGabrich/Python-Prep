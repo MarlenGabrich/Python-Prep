{
 "cells": [
  {
   "cell_type": "code",
   "execution_count": 6,
   "metadata": {},
   "outputs": [],
   "source": [
    "def multiplica_por_dos(lista):\n",
    "    lista_multiplicada = []\n",
    "    for num in lista:\n",
    "        lista_multiplicada.append(num*2)\n",
    "    \n",
    "    return lista_multiplicada"
   ]
  },
  {
   "cell_type": "code",
   "execution_count": 8,
   "metadata": {},
   "outputs": [
    {
     "name": "stdout",
     "output_type": "stream",
     "text": [
      "[2, 4, 6, 8, 10]\n"
     ]
    }
   ],
   "source": [
    "numeros = [1,2,3,4,5]\n",
    "resultado = multiplica_por_dos(numeros)\n",
    "\n",
    "print(resultado)"
   ]
  },
  {
   "cell_type": "code",
   "execution_count": 10,
   "metadata": {},
   "outputs": [],
   "source": [
    "# Manejo de excepciones con try, except and finally\n",
    "# Para crear tu propia excepcion: keyword raise"
   ]
  },
  {
   "cell_type": "code",
   "execution_count": 11,
   "metadata": {},
   "outputs": [],
   "source": [
    "def divide_elementos_de_lista(lista,divisor):\n",
    "    '''\n",
    "    Cada elemento de una lista es dividida por un\n",
    "    divisor definido.\n",
    "    En caso de error de tipo ZeroDivisionError que\n",
    "    sifnifica error al dividir por cero, la \n",
    "    funcion devuelve la lista inicial\n",
    "    '''\n",
    "\n",
    "    try: \n",
    "        return [i/divisor for i in lista]\n",
    "    \n",
    "    except ZeroDivisionError as a:\n",
    "        print(a)\n",
    "        return lista"
   ]
  },
  {
   "cell_type": "code",
   "execution_count": 12,
   "metadata": {},
   "outputs": [
    {
     "name": "stdout",
     "output_type": "stream",
     "text": [
      "division by zero\n",
      "[0, 1, 2, 3, 4, 5, 6, 7, 8, 9]\n"
     ]
    }
   ],
   "source": [
    "lista = list(range(10))\n",
    "divisor = 0\n",
    "\n",
    "print(divide_elementos_de_lista(lista,divisor))"
   ]
  },
  {
   "cell_type": "code",
   "execution_count": 13,
   "metadata": {},
   "outputs": [
    {
     "data": {
      "text/plain": [
       "' \\ntry:\\n    codigo que puede generar una excepcion\\n\\nexcept ExceptionType:\\n    codigo que maneja la excepcion    \\n'"
      ]
     },
     "execution_count": 13,
     "metadata": {},
     "output_type": "execute_result"
    }
   ],
   "source": [
    "''' \n",
    "try:\n",
    "    codigo que puede generar una excepcion\n",
    "\n",
    "except ExceptionType:\n",
    "    codigo que maneja la excepcion    \n",
    "'''"
   ]
  },
  {
   "cell_type": "code",
   "execution_count": 14,
   "metadata": {},
   "outputs": [],
   "source": [
    "def dividir(num1,num2):\n",
    "    try:\n",
    "        resultado = num1/num2\n",
    "    except ZeroDivisionError:\n",
    "        print('NO se puede dividir por cero')\n",
    "        return None"
   ]
  },
  {
   "cell_type": "code",
   "execution_count": 15,
   "metadata": {},
   "outputs": [
    {
     "name": "stdout",
     "output_type": "stream",
     "text": [
      "NO se puede dividir por cero\n"
     ]
    }
   ],
   "source": [
    "dividir(18,0)"
   ]
  },
  {
   "cell_type": "code",
   "execution_count": 18,
   "metadata": {},
   "outputs": [
    {
     "name": "stdout",
     "output_type": "stream",
     "text": [
      "El archivo no existe\n"
     ]
    }
   ],
   "source": [
    "try:\n",
    "    with open('archivo.txt') as f:\n",
    "        contenido = f.read()\n",
    "except FileNotFoundError:\n",
    "    print ('El archivo no existe')"
   ]
  },
  {
   "cell_type": "code",
   "execution_count": 21,
   "metadata": {},
   "outputs": [
    {
     "name": "stdout",
     "output_type": "stream",
     "text": [
      "La clase no existe en el diccionario\n"
     ]
    }
   ],
   "source": [
    "paises = {'Mexico': 'MX', 'Estados Unidos':'US','Canada':'CA','Argentina':'AR'}\n",
    "\n",
    "try:\n",
    "    codigo = paises['Brasil']\n",
    "except KeyError:\n",
    "    print('La clase no existe en el diccionario')"
   ]
  },
  {
   "cell_type": "code",
   "execution_count": 25,
   "metadata": {},
   "outputs": [],
   "source": [
    "# AFIRMACIONES EN PYTHON\n",
    "\n",
    "def primera_letra(lista_de_palabras):\n",
    "    primeras_letras = []\n",
    "\n",
    "    for palabra in lista_de_palabras:\n",
    "        assert type(palabra) == str, f'{palabra} no es str'\n",
    "        assert len(palabra) > 0, 'No se permiten str vacios'\n",
    "\n",
    "        primeras_letras.append(palabra[0])\n",
    "\n",
    "    return primeras_letras"
   ]
  },
  {
   "cell_type": "code",
   "execution_count": 26,
   "metadata": {},
   "outputs": [
    {
     "ename": "AssertionError",
     "evalue": "42 no es str",
     "output_type": "error",
     "traceback": [
      "\u001b[0;31m---------------------------------------------------------------------------\u001b[0m",
      "\u001b[0;31mAssertionError\u001b[0m                            Traceback (most recent call last)",
      "\u001b[1;32m/home/marlen/Desktop/Python-Prep/M09_errorhandling/debug.ipynb Cell 12\u001b[0m line \u001b[0;36m2\n\u001b[1;32m      <a href='vscode-notebook-cell:/home/marlen/Desktop/Python-Prep/M09_errorhandling/debug.ipynb#X14sZmlsZQ%3D%3D?line=0'>1</a>\u001b[0m palabras \u001b[39m=\u001b[39m [\u001b[39m'\u001b[39m\u001b[39mhola\u001b[39m\u001b[39m'\u001b[39m,\u001b[39m'\u001b[39m\u001b[39mmundo\u001b[39m\u001b[39m'\u001b[39m,\u001b[39m42\u001b[39m]\n\u001b[0;32m----> <a href='vscode-notebook-cell:/home/marlen/Desktop/Python-Prep/M09_errorhandling/debug.ipynb#X14sZmlsZQ%3D%3D?line=1'>2</a>\u001b[0m primera_letra(palabras)\n",
      "\u001b[1;32m/home/marlen/Desktop/Python-Prep/M09_errorhandling/debug.ipynb Cell 12\u001b[0m line \u001b[0;36m7\n\u001b[1;32m      <a href='vscode-notebook-cell:/home/marlen/Desktop/Python-Prep/M09_errorhandling/debug.ipynb#X14sZmlsZQ%3D%3D?line=3'>4</a>\u001b[0m primeras_letras \u001b[39m=\u001b[39m []\n\u001b[1;32m      <a href='vscode-notebook-cell:/home/marlen/Desktop/Python-Prep/M09_errorhandling/debug.ipynb#X14sZmlsZQ%3D%3D?line=5'>6</a>\u001b[0m \u001b[39mfor\u001b[39;00m palabra \u001b[39min\u001b[39;00m lista_de_palabras:\n\u001b[0;32m----> <a href='vscode-notebook-cell:/home/marlen/Desktop/Python-Prep/M09_errorhandling/debug.ipynb#X14sZmlsZQ%3D%3D?line=6'>7</a>\u001b[0m     \u001b[39massert\u001b[39;00m \u001b[39mtype\u001b[39m(palabra) \u001b[39m==\u001b[39m \u001b[39mstr\u001b[39m, \u001b[39mf\u001b[39m\u001b[39m'\u001b[39m\u001b[39m{\u001b[39;00mpalabra\u001b[39m}\u001b[39;00m\u001b[39m no es str\u001b[39m\u001b[39m'\u001b[39m\n\u001b[1;32m      <a href='vscode-notebook-cell:/home/marlen/Desktop/Python-Prep/M09_errorhandling/debug.ipynb#X14sZmlsZQ%3D%3D?line=7'>8</a>\u001b[0m     \u001b[39massert\u001b[39;00m \u001b[39mlen\u001b[39m(palabra) \u001b[39m>\u001b[39m \u001b[39m0\u001b[39m, \u001b[39m'\u001b[39m\u001b[39mNo se permiten str vacios\u001b[39m\u001b[39m'\u001b[39m\n\u001b[1;32m     <a href='vscode-notebook-cell:/home/marlen/Desktop/Python-Prep/M09_errorhandling/debug.ipynb#X14sZmlsZQ%3D%3D?line=9'>10</a>\u001b[0m     primeras_letras\u001b[39m.\u001b[39mappend(palabra[\u001b[39m0\u001b[39m])\n",
      "\u001b[0;31mAssertionError\u001b[0m: 42 no es str"
     ]
    }
   ],
   "source": [
    "palabras = ['hola','mundo',42]\n",
    "primera_letra(palabras)"
   ]
  },
  {
   "cell_type": "code",
   "execution_count": null,
   "metadata": {},
   "outputs": [],
   "source": []
  }
 ],
 "metadata": {
  "kernelspec": {
   "display_name": "Python 3",
   "language": "python",
   "name": "python3"
  },
  "language_info": {
   "codemirror_mode": {
    "name": "ipython",
    "version": 3
   },
   "file_extension": ".py",
   "mimetype": "text/x-python",
   "name": "python",
   "nbconvert_exporter": "python",
   "pygments_lexer": "ipython3",
   "version": "3.10.12"
  },
  "orig_nbformat": 4
 },
 "nbformat": 4,
 "nbformat_minor": 2
}
