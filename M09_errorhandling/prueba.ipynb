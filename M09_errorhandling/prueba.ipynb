{
 "cells": [
  {
   "cell_type": "code",
   "execution_count": 1,
   "metadata": {},
   "outputs": [],
   "source": [
    "import unittest"
   ]
  },
  {
   "cell_type": "code",
   "execution_count": 2,
   "metadata": {},
   "outputs": [],
   "source": [
    "def suma(num1,num2):\n",
    "    return num1+num2"
   ]
  },
  {
   "cell_type": "code",
   "execution_count": 3,
   "metadata": {},
   "outputs": [],
   "source": [
    "class Cajanegratest(unittest.TestCase):\n",
    "    \n",
    "    def test_suma_dos_positivos(self):\n",
    "        num1 = 10\n",
    "        num2 = 5\n",
    "        \n",
    "        resultado = suma(num1,num2)\n",
    "\n",
    "        self.assertEqual(resultado,15)\n",
    "\n",
    "    def test_suma_dos_negativos(self):\n",
    "        num1 = -10\n",
    "        num2 = -5\n",
    "        \n",
    "        resultado = suma(num1,num2)\n",
    "\n",
    "        self.assertEqual(resultado,-15)"
   ]
  },
  {
   "cell_type": "code",
   "execution_count": 6,
   "metadata": {},
   "outputs": [
    {
     "name": "stderr",
     "output_type": "stream",
     "text": [
      "test_suma_dos_negativos (__main__.Cajanegratest) ... ok\n",
      "test_suma_dos_positivos (__main__.Cajanegratest) ... ok\n",
      "\n",
      "----------------------------------------------------------------------\n",
      "Ran 2 tests in 0.008s\n",
      "\n",
      "OK\n"
     ]
    },
    {
     "ename": "NameError",
     "evalue": "name 'test_suma_dos_positivos' is not defined",
     "output_type": "error",
     "traceback": [
      "\u001b[0;31m---------------------------------------------------------------------------\u001b[0m",
      "\u001b[0;31mNameError\u001b[0m                                 Traceback (most recent call last)",
      "\u001b[1;32m/home/marlen/Desktop/Python-Prep/M09_errorhandling/prueba.ipynb Cell 4\u001b[0m line \u001b[0;36m2\n\u001b[1;32m      <a href='vscode-notebook-cell:/home/marlen/Desktop/Python-Prep/M09_errorhandling/prueba.ipynb#W3sZmlsZQ%3D%3D?line=0'>1</a>\u001b[0m unittest\u001b[39m.\u001b[39mmain(argv\u001b[39m=\u001b[39m[\u001b[39m'\u001b[39m\u001b[39m'\u001b[39m],verbosity\u001b[39m=\u001b[39m\u001b[39m2\u001b[39m,exit\u001b[39m=\u001b[39m\u001b[39mFalse\u001b[39;00m)\n\u001b[0;32m----> <a href='vscode-notebook-cell:/home/marlen/Desktop/Python-Prep/M09_errorhandling/prueba.ipynb#W3sZmlsZQ%3D%3D?line=1'>2</a>\u001b[0m test_suma_dos_positivos(__main__\u001b[39m.\u001b[39mCajanegratest)\n\u001b[1;32m      <a href='vscode-notebook-cell:/home/marlen/Desktop/Python-Prep/M09_errorhandling/prueba.ipynb#W3sZmlsZQ%3D%3D?line=2'>3</a>\u001b[0m test_suma_dos_negativos(__main__\u001b[39m.\u001b[39mCajanegratest)\n",
      "\u001b[0;31mNameError\u001b[0m: name 'test_suma_dos_positivos' is not defined"
     ]
    }
   ],
   "source": [
    "unittest.main(argv=[''],verbosity=2,exit=False)\n",
    "test_suma_dos_positivos(__main__.Cajanegratest)\n",
    "test_suma_dos_negativos(__main__.Cajanegratest)\n"
   ]
  },
  {
   "cell_type": "code",
   "execution_count": 7,
   "metadata": {},
   "outputs": [],
   "source": [
    "def es_mayor_de_edad(edad):\n",
    "    if edad >= 18:\n",
    "        return True\n",
    "    else:\n",
    "        return False"
   ]
  },
  {
   "cell_type": "code",
   "execution_count": 8,
   "metadata": {},
   "outputs": [],
   "source": [
    "class PruebadeCristalTest(unittest.TestCase):\n",
    "\n",
    "    def test_es_mayor_de_edad(self):\n",
    "        edad = 20\n",
    "        resultado = es_mayor_de_edad(edad)\n",
    "\n",
    "        self.assertEqual(resultado,True)\n",
    "    \n",
    "    def test_es_menor_de_edad(self):\n",
    "        edad = 15\n",
    "        resultado = es_mayor_de_edad(edad)\n",
    "\n",
    "        self.assertEqual(resultado,False)\n",
    "        "
   ]
  },
  {
   "cell_type": "code",
   "execution_count": 12,
   "metadata": {},
   "outputs": [
    {
     "name": "stderr",
     "output_type": "stream",
     "text": [
      "test_suma_dos_negativos (__main__.Cajanegratest) ... ok\n",
      "test_suma_dos_positivos (__main__.Cajanegratest) ... ok\n",
      "test_es_mayor_de_edad (__main__.PruebadeCristalTest) ... ok\n",
      "test_es_menor_de_edad (__main__.PruebadeCristalTest) ... ok\n",
      "\n",
      "----------------------------------------------------------------------\n",
      "Ran 4 tests in 0.022s\n",
      "\n",
      "OK\n"
     ]
    },
    {
     "data": {
      "text/plain": [
       "<unittest.main.TestProgram at 0x7fe9f42fcbe0>"
      ]
     },
     "execution_count": 12,
     "metadata": {},
     "output_type": "execute_result"
    }
   ],
   "source": [
    "unittest.main(argv=[''], verbosity=2, exit=False)"
   ]
  },
  {
   "cell_type": "code",
   "execution_count": null,
   "metadata": {},
   "outputs": [],
   "source": []
  }
 ],
 "metadata": {
  "kernelspec": {
   "display_name": "Python 3",
   "language": "python",
   "name": "python3"
  },
  "language_info": {
   "codemirror_mode": {
    "name": "ipython",
    "version": 3
   },
   "file_extension": ".py",
   "mimetype": "text/x-python",
   "name": "python",
   "nbconvert_exporter": "python",
   "pygments_lexer": "ipython3",
   "version": "3.10.12"
  },
  "orig_nbformat": 4
 },
 "nbformat": 4,
 "nbformat_minor": 2
}
