{
 "cells": [
  {
   "attachments": {},
   "cell_type": "markdown",
   "metadata": {},
   "source": [
    "## Flujos de Control"
   ]
  },
  {
   "attachments": {},
   "cell_type": "markdown",
   "metadata": {},
   "source": [
    "1) Crear una variable que contenga un elemento del conjunto de números enteros y luego imprimir por pantalla si es mayor o menor a cero"
   ]
  },
  {
   "cell_type": "code",
   "execution_count": 1,
   "metadata": {},
   "outputs": [
    {
     "name": "stdout",
     "output_type": "stream",
     "text": [
      "a es 0\n"
     ]
    }
   ],
   "source": [
    "a = 0\n",
    "if a<0: print(\"a es menor q 0\")\n",
    "if a>0: print(\"a es mayor a 0\")\n",
    "else: print(\"a es 0\")"
   ]
  },
  {
   "attachments": {},
   "cell_type": "markdown",
   "metadata": {},
   "source": [
    "2) Crear dos variables y un condicional que informe si son del mismo tipo de dato"
   ]
  },
  {
   "cell_type": "code",
   "execution_count": 2,
   "metadata": {},
   "outputs": [
    {
     "name": "stdout",
     "output_type": "stream",
     "text": [
      "variables de diferente tipo\n"
     ]
    }
   ],
   "source": [
    "b = 'hola'\n",
    "c = 1234\n",
    "\n",
    "if type(b)==type(c): print('mismo tipo de datos')\n",
    "else: print('variables de diferente tipo')"
   ]
  },
  {
   "attachments": {},
   "cell_type": "markdown",
   "metadata": {},
   "source": [
    "3) Para los valores enteros del 1 al 20, imprimir por pantalla si es par o impar"
   ]
  },
  {
   "cell_type": "code",
   "execution_count": 3,
   "metadata": {},
   "outputs": [
    {
     "name": "stdout",
     "output_type": "stream",
     "text": [
      "1 es un número impar\n",
      "2 es un número par\n",
      "3 es un número impar\n",
      "4 es un número par\n",
      "5 es un número impar\n",
      "6 es un número par\n",
      "7 es un número impar\n",
      "8 es un número par\n",
      "9 es un número impar\n",
      "10 es un número par\n",
      "11 es un número impar\n",
      "12 es un número par\n",
      "13 es un número impar\n",
      "14 es un número par\n",
      "15 es un número impar\n",
      "16 es un número par\n",
      "17 es un número impar\n",
      "18 es un número par\n",
      "19 es un número impar\n",
      "20 es un número par\n"
     ]
    }
   ],
   "source": [
    "for i in range(1,21):\n",
    "    if i%2==0:print(i,'es un número par')\n",
    "    else: print(i, 'es un número impar')"
   ]
  },
  {
   "attachments": {},
   "cell_type": "markdown",
   "metadata": {},
   "source": [
    "4) En un ciclo for mostrar para los valores entre 0 y 5 el resultado de elevarlo a la potencia igual a 3"
   ]
  },
  {
   "cell_type": "code",
   "execution_count": 4,
   "metadata": {},
   "outputs": [
    {
     "name": "stdout",
     "output_type": "stream",
     "text": [
      "i elevado al cubo es: 0\n",
      "i elevado al cubo es: 1\n",
      "i elevado al cubo es: 8\n",
      "i elevado al cubo es: 27\n",
      "i elevado al cubo es: 64\n",
      "i elevado al cubo es: 125\n"
     ]
    }
   ],
   "source": [
    "for i in range(0,6): print('i elevado al cubo es:',i**3)"
   ]
  },
  {
   "attachments": {},
   "cell_type": "markdown",
   "metadata": {},
   "source": [
    "5) Crear una variable que contenga un número entero y realizar un ciclo for la misma cantidad de ciclos"
   ]
  },
  {
   "cell_type": "code",
   "execution_count": 5,
   "metadata": {},
   "outputs": [
    {
     "name": "stdout",
     "output_type": "stream",
     "text": [
      "0\n",
      "1\n",
      "2\n",
      "3\n"
     ]
    }
   ],
   "source": [
    "d = 4\n",
    "for i in range(d):\n",
    "    print(i)\n",
    "    pass"
   ]
  },
  {
   "attachments": {},
   "cell_type": "markdown",
   "metadata": {},
   "source": [
    "6) Utilizar un ciclo while para realizar el factorial de un número guardado en una variable, sólo si la variable contiene un número entero mayor a 0"
   ]
  },
  {
   "cell_type": "code",
   "execution_count": 6,
   "metadata": {},
   "outputs": [
    {
     "name": "stdout",
     "output_type": "stream",
     "text": [
      "d!: 24\n"
     ]
    }
   ],
   "source": [
    "c=1\n",
    "d=4\n",
    "if type(d)==int and d>0:\n",
    "    factorial = d\n",
    "    while d>2:\n",
    "        d-=1\n",
    "        factorial*=d\n",
    "    print('d!:',factorial)"
   ]
  },
  {
   "attachments": {},
   "cell_type": "markdown",
   "metadata": {},
   "source": [
    "7) Crear un ciclo for dentro de un ciclo while"
   ]
  },
  {
   "cell_type": "code",
   "execution_count": 7,
   "metadata": {},
   "outputs": [
    {
     "name": "stdout",
     "output_type": "stream",
     "text": [
      "0\n",
      "1\n"
     ]
    }
   ],
   "source": [
    "while d>0:\n",
    "    for i in range(d):print (i)\n",
    "    break"
   ]
  },
  {
   "attachments": {},
   "cell_type": "markdown",
   "metadata": {},
   "source": [
    "8) Crear un ciclo while dentro de un ciclo for"
   ]
  },
  {
   "cell_type": "code",
   "execution_count": 8,
   "metadata": {},
   "outputs": [
    {
     "name": "stdout",
     "output_type": "stream",
     "text": [
      "sigo\n",
      "sigo\n",
      "sigo\n",
      "sigo\n",
      "sigo\n"
     ]
    }
   ],
   "source": [
    "for i in range (10):\n",
    "    while i%2==0:\n",
    "        print('sigo')\n",
    "        break"
   ]
  },
  {
   "attachments": {},
   "cell_type": "markdown",
   "metadata": {},
   "source": [
    "9) Imprimir los números primos existentes entre 0 y 30"
   ]
  },
  {
   "cell_type": "code",
   "execution_count": 9,
   "metadata": {},
   "outputs": [
    {
     "name": "stdout",
     "output_type": "stream",
     "text": [
      "[3, 5, 7, 11, 13, 17, 19, 23, 25, 29]\n",
      "134\n"
     ]
    }
   ],
   "source": [
    "n=0\n",
    "ciclos=0\n",
    "li = []\n",
    "primo = True\n",
    "while (n<30):\n",
    "    for i in range(2,n):\n",
    "        ciclos +=1\n",
    "        if (n%i==0 and n!=i):\n",
    "            primo = False\n",
    "            break\n",
    "        if primo==True and n not in li:\n",
    "            li.append(n)\n",
    "        else:\n",
    "            primo = True   \n",
    "    n+=1\n",
    "print(li)\n",
    "print(ciclos)"
   ]
  },
  {
   "attachments": {},
   "cell_type": "markdown",
   "metadata": {},
   "source": [
    "10) ¿Se puede mejorar el proceso del punto 9? Utilizar las sentencias break y/ó continue para tal fin"
   ]
  },
  {
   "cell_type": "code",
   "execution_count": 3,
   "metadata": {},
   "outputs": [
    {
     "name": "stdout",
     "output_type": "stream",
     "text": [
      "[3, 5, 7, 11, 13, 17, 19, 23, 25, 29]\n",
      "41\n"
     ]
    }
   ],
   "source": [
    "n2=0\n",
    "ciclos2=0\n",
    "li2 = []\n",
    "primo2 = True\n",
    "while (n2<31):\n",
    "    for j in range(2,n2):\n",
    "        ciclos2 +=1\n",
    "        if (n2%j==0 and n2!=j):\n",
    "            primo2 = False\n",
    "            break\n",
    "        if primo2 and n2 not in li2:\n",
    "            li2.append(n2)\n",
    "            break\n",
    "        else:\n",
    "            primo2 = True\n",
    "    n2+=1\n",
    "print(li2)\n",
    "print(ciclos2)"
   ]
  },
  {
   "attachments": {},
   "cell_type": "markdown",
   "metadata": {},
   "source": [
    "11) En los puntos 9 y 10, se diseño un código que encuentra números primos y además se lo optimizó. ¿Es posible saber en qué medida se optimizó?"
   ]
  },
  {
   "cell_type": "code",
   "execution_count": 11,
   "metadata": {},
   "outputs": [
    {
     "name": "stdout",
     "output_type": "stream",
     "text": [
      "29.85 % de optimización\n"
     ]
    }
   ],
   "source": [
    "print (round((ciclos2/ciclos)*100,2),'% de optimización')"
   ]
  },
  {
   "attachments": {},
   "cell_type": "markdown",
   "metadata": {},
   "source": [
    "12) Aplicando continue, armar un ciclo while que solo imprima los valores divisibles por 12, dentro del rango de números de 100 a 300"
   ]
  },
  {
   "cell_type": "code",
   "execution_count": 12,
   "metadata": {},
   "outputs": [
    {
     "name": "stdout",
     "output_type": "stream",
     "text": [
      "108\n",
      "120\n",
      "132\n",
      "144\n",
      "156\n",
      "168\n",
      "180\n",
      "192\n",
      "204\n",
      "216\n",
      "228\n",
      "240\n",
      "252\n",
      "264\n",
      "276\n",
      "288\n",
      "300\n"
     ]
    }
   ],
   "source": [
    "n=99\n",
    "\n",
    "while n<300:\n",
    "    n+=1\n",
    "    if (n%12!=0):continue\n",
    "    print(n)\n",
    "    "
   ]
  },
  {
   "attachments": {},
   "cell_type": "markdown",
   "metadata": {},
   "source": [
    "13) Utilizar la función **input()** que permite hacer ingresos por teclado, para encontrar números primos y dar la opción al usario de buscar el siguiente"
   ]
  },
  {
   "cell_type": "code",
   "execution_count": 12,
   "metadata": {},
   "outputs": [
    {
     "name": "stdout",
     "output_type": "stream",
     "text": [
      "Desea encontrar el primer número primo? S(1)/N(0)\n",
      "Número primo:  1\n",
      "Desea continuar con el siguiente número primo?\n",
      "Número primo:  2\n",
      "Desea continuar con el siguiente número primo?\n",
      "Número primo:  3\n",
      "Desea continuar con el siguiente número primo?\n",
      "Número primo:  5\n",
      "Desea continuar con el siguiente número primo?\n",
      "Número primo:  7\n",
      "Desea continuar con el siguiente número primo?\n",
      "Número primo:  11\n",
      "Desea continuar con el siguiente número primo?\n",
      "Número primo:  13\n",
      "Desea continuar con el siguiente número primo?\n",
      "Número primo:  17\n",
      "Desea continuar con el siguiente número primo?\n",
      "Número primo:  19\n",
      "Desea continuar con el siguiente número primo?\n",
      "Número primo:  23\n",
      "Desea continuar con el siguiente número primo?\n",
      "Número primo:  29\n",
      "Desea continuar con el siguiente número primo?\n",
      "Número primo:  31\n",
      "Desea continuar con el siguiente número primo?\n",
      "Número primo:  37\n",
      "Desea continuar con el siguiente número primo?\n",
      "Número primo:  41\n",
      "Desea continuar con el siguiente número primo?\n",
      "Proceso finalizado\n"
     ]
    }
   ],
   "source": [
    "print('Desea encontrar el primer número primo? S(1)/N(0)')\n",
    "a=input()\n",
    "n=1\n",
    "primo = True\n",
    "\n",
    "while (a=='1'):\n",
    "    for i in range(2,n):\n",
    "        if (n%i==0 and n!=i):\n",
    "            primo = False\n",
    "            break\n",
    "    if (primo):\n",
    "        print('Número primo: ',n)\n",
    "        print('Desea continuar con el siguiente número primo?')\n",
    "        if (input()!='1'):\n",
    "            print('Proceso finalizado')\n",
    "            break\n",
    "    else:\n",
    "        primo = True\n",
    "    n+=1\n"
   ]
  },
  {
   "attachments": {},
   "cell_type": "markdown",
   "metadata": {},
   "source": [
    "14) Crear un ciclo while que encuentre dentro del rango de 100 a 300 el primer número divisible por 3 y además múltiplo de 6"
   ]
  },
  {
   "cell_type": "code",
   "execution_count": 23,
   "metadata": {},
   "outputs": [
    {
     "name": "stdout",
     "output_type": "stream",
     "text": [
      "102\n"
     ]
    }
   ],
   "source": [
    "bu = False\n",
    "\n",
    "while not bu:\n",
    "    for i in range (100,301):\n",
    "        if i%6!=0: continue\n",
    "        print(i)\n",
    "        bu = True\n",
    "        break\n",
    "    \n",
    "\n",
    "    \n",
    "\n"
   ]
  },
  {
   "cell_type": "code",
   "execution_count": null,
   "metadata": {},
   "outputs": [],
   "source": []
  }
 ],
 "metadata": {
  "interpreter": {
   "hash": "c85384e4cb51c8b72350f3a8712cc8351fdc3955e32a27f9b60c6242ab125f01"
  },
  "kernelspec": {
   "display_name": "Python 3 (ipykernel)",
   "language": "python",
   "name": "python3"
  },
  "language_info": {
   "codemirror_mode": {
    "name": "ipython",
    "version": 3
   },
   "file_extension": ".py",
   "mimetype": "text/x-python",
   "name": "python",
   "nbconvert_exporter": "python",
   "pygments_lexer": "ipython3",
   "version": "3.9.2"
  }
 },
 "nbformat": 4,
 "nbformat_minor": 4
}
